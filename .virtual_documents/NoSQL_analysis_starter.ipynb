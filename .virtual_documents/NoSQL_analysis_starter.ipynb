





from pymongo import MongoClient
import pandas as pd
from pprint import pprint


# Create an instance of MongoClient
mongo = MongoClient(port=27017)


# assign the uk_food database to a variable name
db = mongo['uk_food']


# review the collections in our database
print(db.list_collection_names())


# assign the collection to a variable
establishments = db['establishments']








# Find the establishments with a hygiene score of 20
hygiene_query = {'scores.Hygiene': 20}

# Use count_documents to display the number of documents in the result
hygiene_count = (establishments.count_documents(hygiene_query))
print("Number of documents in result:", establishments.count_documents(hygiene_query))

# Display the first document in the results using pprint
pprint(establishments.find_one(hygiene_query))


# Convert the result to a Pandas DataFrame
hygiene_df = pd.DataFrame(establishments.find(hygiene_query))
# Display the number of rows in the DataFrame
print(f"There are {len(hygiene_df)} rows in this DataFrame.")
# Display the first 10 rows of the DataFrame
hygiene_df.head(10)





# Find the establishments with London as the Local Authority and has a RatingValue greater than or equal to 4.
london_query = {'LocalAuthorityName' : {"$regex" : 'London'},
         'RatingValue' :  {'$gte': 4}}

# Use count_documents to display the number of documents in the result
london_count = (establishments.count_documents(london_query))
print("Number of documents in result:", establishments.count_documents(london_query))
# Display the first document in the results using pprint
pprint(establishments.find_one(london_query))


# Convert the result to a Pandas DataFrame
london_df = pd.DataFrame(establishments.find(london_query))
# Display the number of rows in the DataFrame
print(f"There are {len(london_df)} rows in this DataFrame.")
# Display the first 10 rows of the DataFrame
london_df.head(10)





# Find the latitude and longitude of "Penang Flavours"
pprint(establishments.find_one({'BusinessName': 'Penang Flavours'}, {'geocode.latitude', 'geocode.longitude'}))


# Search within 0.01 degree on either side of the latitude and longitude.
# Rating value must equal 5
# Sort by hygiene score

degree_search = 0.01
latitude = 51.49014200
longitude = 0.08384000

penang_query = {'RatingValue': 5,
          'geocode.latitude': {'$lte': (latitude + degree_search), '$gte': (latitude - degree_search)},
                   'geocode.longitude': {'$lte': (longitude + degree_search), '$gte': (longitude - degree_search)}
}
sort = [('scores.Hygiene', 1)]
limit = 5

# Print the results
top5 = list(establishments.find(penang_query).sort(sort).limit(5))
pprint(top5)


# Convert result to Pandas DataFrame
top5df = pd.DataFrame(top5)
top5df





# Create a pipeline that:
# 1. Matches establishments with a hygiene score of 0
match_query = {'$match' : {'scores.Hygiene': {'$eq': 0}}}
# 2. Groups the matches by Local Authority
group_query = {'$group' : {"_id" : "$LocalAuthorityName",
                           "count": {'$sum': 1}}}
# 3. Sorts the matches from highest to lowest               
sort_query = {'$sort': {'count': -1}}

# create pipeline
pipeline = [match_query, group_query, sort_query]

results = list(establishments.aggregate(pipeline))

# Print the number of documents in the result
print(f"There are {len(results)} rows in this DataFrame.")
# Print the first 10 results
print('           ')
pprint(results[:10])


# Convert the result to a Pandas DataFrame

# Display the number of rows in the DataFrame

# Display the first 10 rows of the DataFrame


# Convert the result to a Pandas DataFrame
establishments_df = pd.DataFrame(establishments.find(results))
# Display the number of rows in the DataFrame
print(f"There are {len(establishments_df)} rows in this DataFrame.")
# Display the first 10 rows of the DataFrame
establishments_df.head(10)



